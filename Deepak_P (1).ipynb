{
  "nbformat": 4,
  "nbformat_minor": 0,
  "metadata": {
    "colab": {
      "provenance": []
    },
    "kernelspec": {
      "name": "python3",
      "display_name": "Python 3"
    },
    "language_info": {
      "name": "python"
    }
  },
  "cells": [
    {
      "cell_type": "code",
      "execution_count": null,
      "metadata": {
        "id": "iwuIFEOR8YWm",
        "colab": {
          "base_uri": "https://localhost:8080/"
        },
        "outputId": "c5bc003c-1328-4a70-be39-a2be68ce25f9"
      },
      "outputs": [
        {
          "output_type": "stream",
          "name": "stdout",
          "text": [
            "Enriched Data Sample:\n",
            "  OrderID CustomerName      PhoneNumber  TotalSales\n",
            "0  HEXHEV     John Doe  +1 990-186-7268     4899.85\n",
            "1  JCKRFW     John Doe  +1 659-832-6831      218.94\n",
            "2  PZXZUL     John Doe  +1 564-127-5258     3292.32\n",
            "3  QELSGN     John Doe  +1 571-789-2219     5724.00\n",
            "4  KCFBLY  Alice Smith  +1 631-561-3575     1361.58\n",
            "\n",
            "Metrics:\n",
            "Total Sales: $81,791,529.36\n",
            "Average Order Value: $2,097,218.70\n",
            "\n",
            "Enriched data saved to: Enriched_Sales_Data.csv\n"
          ]
        }
      ],
      "source": [
        "import pandas as pd\n",
        "\n",
        "# Load the dataset\n",
        "file_path = './sample.csv'\n",
        "data = pd.read_csv(file_path)\n",
        "\n",
        "# Calculate total sales for each order\n",
        "data['TotalSales'] = data['Quantity'] * data['Price']\n",
        "\n",
        "# Calculate overall metrics\n",
        "total_sales = data['TotalSales'].sum()\n",
        "average_order_value = total_sales / data['OrderID'].nunique()\n",
        "\n",
        "# Enrich the dataset with CustomerName and PhoneNumber (already present)\n",
        "enriched_data = data[['OrderID', 'CustomerName', 'PhoneNumber', 'TotalSales']].drop_duplicates()\n",
        "\n",
        "# Display enriched data\n",
        "print(\"Enriched Data Sample:\")\n",
        "print(enriched_data.head())\n",
        "\n",
        "# Display metrics\n",
        "print(\"\\nMetrics:\")\n",
        "print(f\"Total Sales: ${total_sales:,.2f}\")\n",
        "print(f\"Average Order Value: ${average_order_value:,.2f}\")\n",
        "\n",
        "\n",
        "# Save enriched data to a new CSV\n",
        "enriched_file_path = 'Enriched_Sales_Data.csv'\n",
        "\n",
        "# Save enriched data to a new CSV\n",
        "enriched_data.to_csv(enriched_file_path, index=False)\n",
        "print(f\"\\nEnriched data saved to: {enriched_file_path}\")\n",
        "\n"
      ]
    }
  ]
}